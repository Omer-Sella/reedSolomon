{
 "cells": [
  {
   "cell_type": "code",
   "execution_count": 3,
   "id": "26910fd4",
   "metadata": {},
   "outputs": [],
   "source": [
    "import os, sys\n",
    "reedSolomonProjectDir = os.environ.get('REEDSOLOMON')\n",
    "if reedSolomonProjectDir == None: \n",
    "    #Note that this is an example, so the relevant modules will be in its parent directory, hence os.path.dirname(os.getcwd()) and not os.getcwd()\n",
    "    reedSolomonProjectDir = os.path.dirname(os.getcwd()) \n",
    "sys.path.insert(0, reedSolomonProjectDir)\n",
    "from arithmetic import polynomial, gf256\n",
    "from bchDecoder import bchDecoder"
   ]
  },
  {
   "cell_type": "code",
   "execution_count": 6,
   "id": "06a368b0",
   "metadata": {},
   "outputs": [],
   "source": [
    "from ipywidgets import interact, interactive, fixed, interact_manual, widgets"
   ]
  },
  {
   "cell_type": "code",
   "execution_count": 16,
   "id": "ad62afaf",
   "metadata": {},
   "outputs": [
    {
     "data": {
      "application/vnd.jupyter.widget-view+json": {
       "model_id": "9a9ea9af4b474ee6bd7891045f0072fd",
       "version_major": 2,
       "version_minor": 0
      },
      "text/plain": [
       "ToggleButton(value=False, description='Click me', icon='check', tooltip='Description')"
      ]
     },
     "metadata": {},
     "output_type": "display_data"
    },
    {
     "data": {
      "text/plain": [
       "False"
      ]
     },
     "execution_count": 16,
     "metadata": {},
     "output_type": "execute_result"
    }
   ],
   "source": [
    "a = widgets.ToggleButton(\n",
    "    value=False,\n",
    "    description='Click me',\n",
    "    disabled=False,\n",
    "    button_style='', # 'success', 'info', 'warning', 'danger' or ''\n",
    "    tooltip='Description',\n",
    "    icon='check' # (FontAwesome names without the `fa-` prefix)\n",
    ")\n",
    "display(a)\n"
   ]
  },
  {
   "cell_type": "code",
   "execution_count": 18,
   "id": "8153507d",
   "metadata": {},
   "outputs": [
    {
     "data": {
      "text/plain": [
       "True"
      ]
     },
     "execution_count": 18,
     "metadata": {},
     "output_type": "execute_result"
    }
   ],
   "source": [
    "a.value"
   ]
  },
  {
   "cell_type": "code",
   "execution_count": 20,
   "id": "42625d81",
   "metadata": {},
   "outputs": [
    {
     "data": {
      "application/vnd.jupyter.widget-view+json": {
       "model_id": "9125f1bee66f4f369f3047bc39b2fdd8",
       "version_major": 2,
       "version_minor": 0
      },
      "text/plain": [
       "VBox(children=(Label(value='Scroll horizontally:'), Box(children=(Button(button_style='success', description='…"
      ]
     },
     "execution_count": 20,
     "metadata": {},
     "output_type": "execute_result"
    }
   ],
   "source": [
    "item_layout = widgets.Layout(height='100px', min_width='40px')\n",
    "\n",
    "items = [widgets.Button(layout=item_layout, description=str(i), button_style='success') for i in range(40)]\n",
    "\n",
    "box_layout = widgets.Layout(overflow_x='scroll',\n",
    "                    border='3px solid black',\n",
    "                    width='600px',\n",
    "                    height='',\n",
    "                    flex_flow='row',\n",
    "                    display='flex')\n",
    "carousel = widgets.Box(children=items, layout=box_layout)\n",
    "widgets.VBox([widgets.Label('Scroll horizontally:'), carousel])"
   ]
  },
  {
   "cell_type": "code",
   "execution_count": 21,
   "id": "cab5b163",
   "metadata": {},
   "outputs": [
    {
     "data": {
      "application/vnd.jupyter.widget-view+json": {
       "model_id": "ecf4b3c2a7c141dcb7cf235f1b6bff32",
       "version_major": 2,
       "version_minor": 0
      },
      "text/plain": [
       "GridBox(children=(Button(button_style='danger', description='0', layout=Layout(height='auto', width='auto'), s…"
      ]
     },
     "execution_count": 21,
     "metadata": {},
     "output_type": "execute_result"
    }
   ],
   "source": [
    "widgets.GridBox(children=[widgets.Button(description=str(i), layout=widgets.Layout(width='auto', height='auto'),\n",
    "                         button_style='danger') for i in range(19)],\n",
    "\n",
    "                layout=widgets.Layout(\n",
    "                                    width='60%',\n",
    "                                    grid_template_columns='100px 50px 100px 50px',\n",
    "                                    grid_template_rows='80px auto 80px',\n",
    "                                    grid_gap='12px 2px')\n",
    "       )"
   ]
  },
  {
   "cell_type": "code",
   "execution_count": null,
   "id": "f2f28987",
   "metadata": {},
   "outputs": [],
   "source": []
  }
 ],
 "metadata": {
  "kernelspec": {
   "display_name": "Python 3 (ipykernel)",
   "language": "python",
   "name": "python3"
  },
  "language_info": {
   "codemirror_mode": {
    "name": "ipython",
    "version": 3
   },
   "file_extension": ".py",
   "mimetype": "text/x-python",
   "name": "python",
   "nbconvert_exporter": "python",
   "pygments_lexer": "ipython3",
   "version": "3.11.5"
  }
 },
 "nbformat": 4,
 "nbformat_minor": 5
}
